{
 "cells": [
  {
   "cell_type": "code",
   "execution_count": 1,
   "metadata": {},
   "outputs": [],
   "source": [
    "import numpy as np\n",
    "import matplotlib.pyplot as plt\n",
    "import pandas as pd"
   ]
  },
  {
   "cell_type": "markdown",
   "metadata": {},
   "source": [
    "<h1>Importing the dataset</h1>\n",
    "    <p>Create X for column of value use to predict dataset.iloc[: # Take all the range of row, : the all of the column except last one] </p>\n",
    "    <p>Create Y for column of prediction dataset.iloc[:, -1].values</p>"
   ]
  },
  {
   "cell_type": "code",
   "execution_count": 2,
   "metadata": {},
   "outputs": [],
   "source": [
    "dataset = pd.read_csv('Data.csv')\n",
    "X = dataset.iloc[:, :-1].values # independent variable\n",
    "y = dataset.iloc[:, -1].values # dependent variable last column"
   ]
  },
  {
   "cell_type": "markdown",
   "metadata": {},
   "source": [
    "# Taking care of missing data"
   ]
  },
  {
   "cell_type": "code",
   "execution_count": 14,
   "metadata": {},
   "outputs": [],
   "source": [
    "# Take care of missing data\n",
    "from sklearn.impute import SimpleImputer\n",
    "imputer = SimpleImputer(missing_values=np.nan, strategy='mean') # replace missing data with mean\n",
    "imputer.fit(X[:, 1:3]) # Get Metrix Of X with missing data\n",
    "X[:,1:3] = imputer.transform(X[:, 1:3]) # Replace missing data with mean"
   ]
  },
  {
   "cell_type": "markdown",
   "metadata": {},
   "source": [
    "# Encode category data\n"
   ]
  },
  {
   "cell_type": "code",
   "execution_count": 18,
   "metadata": {},
   "outputs": [],
   "source": [
    "from sklearn.compose import ColumnTransformer\n",
    "from sklearn.preprocessing import OneHotEncoder\n",
    "ct = ColumnTransformer(transformers=[('encoder', OneHotEncoder(), [0])], remainder='passthrough')\n",
    "# encoder = OneHotEncoder()\n",
    "X = np.array(ct.fit_transform(X))\n"
   ]
  },
  {
   "cell_type": "markdown",
   "metadata": {},
   "source": [
    "<p>Each row of the name of country encoding to floating number</p>"
   ]
  },
  {
   "cell_type": "code",
   "execution_count": 20,
   "metadata": {},
   "outputs": [
    {
     "name": "stdout",
     "output_type": "stream",
     "text": [
      "[0 1 0 0 1 1 0 1 0 1]\n"
     ]
    }
   ],
   "source": [
    "from sklearn.preprocessing import LabelEncoder\n",
    "le = LabelEncoder() # No need to use OneHotEncoder because y is dependent variable\n",
    "y = le.fit_transform(y) # fit and transform y to 0,1 dependent variable yes or no\n",
    "print(y)"
   ]
  },
  {
   "cell_type": "code",
   "execution_count": 21,
   "metadata": {},
   "outputs": [],
   "source": [
    "from sklearn.model_selection import train_test_split\n",
    "# Splitting the dataset into the Training set and Test set\n",
    "# split 20% for test set\n",
    "# random_state = 1 means the same result for each run\n",
    "# stratify = y means the same distribution for each run\n",
    "X_train, X_test, y_train, y_test = train_test_split(X, y, test_size=0.2, random_state=1, stratify=y)\n",
    "\n"
   ]
  },
  {
   "cell_type": "code",
   "execution_count": 29,
   "metadata": {},
   "outputs": [
    {
     "name": "stdout",
     "output_type": "stream",
     "text": [
      "[[0.0 1.0 0.0 1.4810949949635102 1.5511947816430596]\n",
      " [1.0 0.0 0.0 -0.2115849992805015 0.15293469678171012]\n",
      " [1.0 0.0 0.0 -0.47199730608727253 -0.633586600952799]\n",
      " [1.0 0.0 0.0 0.6998580745431972 0.5898909733008818]\n",
      " [0.0 0.0 1.0 -1.5136465333143565 -1.5074991539911424]\n",
      " [0.0 1.0 0.0 -1.1230280731042 -0.9831516221681363]\n",
      " [1.0 0.0 0.0 1.2206826881567392 1.2016297604277222]\n",
      " [0.0 0.0 1.0 -0.081378845877116 -0.37141283504129596]]\n",
      "[[0.0 1.0 0.0 40.0 63777.77777777779]\n",
      " [0.0 0.0 1.0 38.77777777777778 52000.00000000001]]\n"
     ]
    }
   ],
   "source": [
    "# Feature Scaling\n",
    "from sklearn.preprocessing import StandardScaler\n",
    "# StandardScaler = (x-mean(x))/std(x)\n",
    "# fit_transform = fit and transform\n",
    "# fit = calculate mean and std\n",
    "# transform = (x-mean(x))/std(x)\n",
    "# fit_transform = calculate mean and std and (x-mean(x))/std(x)\n",
    "# transform = (x-mean(x))/std(x) with mean and std from fit\n",
    "sc = StandardScaler()\n",
    "X_train[:, 3:] = sc.fit_transform(X_train[:, 3:])\n",
    "# only transform because mean and std from fit\n",
    "X_test[:, 3:] = sc.transform(X_test[:, 3:])\n",
    "print(X_train)\n",
    "print(X_test)"
   ]
  },
  {
   "cell_type": "code",
   "execution_count": null,
   "metadata": {},
   "outputs": [],
   "source": [
    "# Training the Logistic Regression model on the Training set\n",
    "from sklearn.linear_model import LogisticRegression\n",
    "# penalty = 'l2' means Ridge Regression"
   ]
  }
 ],
 "metadata": {
  "kernelspec": {
   "display_name": "env",
   "language": "python",
   "name": "python3"
  },
  "language_info": {
   "codemirror_mode": {
    "name": "ipython",
    "version": 3
   },
   "file_extension": ".py",
   "mimetype": "text/x-python",
   "name": "python",
   "nbconvert_exporter": "python",
   "pygments_lexer": "ipython3",
   "version": "3.9.6"
  },
  "orig_nbformat": 4
 },
 "nbformat": 4,
 "nbformat_minor": 2
}
